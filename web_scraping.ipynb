{
  "nbformat": 4,
  "nbformat_minor": 0,
  "metadata": {
    "colab": {
      "provenance": [],
      "authorship_tag": "ABX9TyPwrfz6FkP03uS2VH1PWP5N",
      "include_colab_link": true
    },
    "kernelspec": {
      "name": "python3",
      "display_name": "Python 3"
    },
    "language_info": {
      "name": "python"
    }
  },
  "cells": [
    {
      "cell_type": "markdown",
      "metadata": {
        "id": "view-in-github",
        "colab_type": "text"
      },
      "source": [
        "<a href=\"https://colab.research.google.com/github/Mohit03singh/Web-Scraping/blob/main/web_scraping.ipynb\" target=\"_parent\"><img src=\"https://colab.research.google.com/assets/colab-badge.svg\" alt=\"Open In Colab\"/></a>"
      ]
    },
    {
      "cell_type": "code",
      "execution_count": 1,
      "metadata": {
        "id": "G-Qjx8jzdM2Z"
      },
      "outputs": [],
      "source": [
        "import requests\n",
        "from bs4 import BeautifulSoup as bs\n",
        "from urllib.request import urlopen # urllib provide funcationality to open the url\n",
        "import logging"
      ]
    },
    {
      "cell_type": "markdown",
      "source": [
        "<h1>Fetching data from amazon site</h1>"
      ],
      "metadata": {
        "id": "uptNd9kDpviB"
      }
    },
    {
      "cell_type": "code",
      "source": [
        "amazon_url=\"https://www.amazon.in/s?k=\"+\"iphone\""
      ],
      "metadata": {
        "id": "ctr3BFTyoGlq"
      },
      "execution_count": null,
      "outputs": []
    },
    {
      "cell_type": "code",
      "source": [
        "amazon_url"
      ],
      "metadata": {
        "id": "l3G0Iiv7oJhe"
      },
      "execution_count": null,
      "outputs": []
    },
    {
      "cell_type": "code",
      "source": [
        "urlclient=urlopen(amazon_url)\n",
        "urlclient"
      ],
      "metadata": {
        "id": "wgSUltN7oMqk"
      },
      "execution_count": null,
      "outputs": []
    },
    {
      "cell_type": "code",
      "source": [
        "amazon_page=urlclient.read()"
      ],
      "metadata": {
        "id": "kL5cgAxwoPdc"
      },
      "execution_count": null,
      "outputs": []
    },
    {
      "cell_type": "code",
      "source": [
        "amazon_page"
      ],
      "metadata": {
        "id": "5xOIaBzNoR54"
      },
      "execution_count": null,
      "outputs": []
    },
    {
      "cell_type": "code",
      "source": [
        "amazon_html=bs(amazon_page,'html.parser')"
      ],
      "metadata": {
        "id": "Dr6-tejroVdg"
      },
      "execution_count": null,
      "outputs": []
    },
    {
      "cell_type": "code",
      "source": [
        "amazon_html"
      ],
      "metadata": {
        "id": "2Acqgp1WoYqP"
      },
      "execution_count": null,
      "outputs": []
    },
    {
      "cell_type": "code",
      "source": [
        "big_box=amazon_html.findAll(\"div\",{\"class\":\"puisg-col puisg-col-4-of-12 puisg-col-8-of-16 puisg-col-12-of-20 puisg-col-12-of-24 puis-list-col-right\"})"
      ],
      "metadata": {
        "id": "rPYc7u2IofMN"
      },
      "execution_count": null,
      "outputs": []
    },
    {
      "cell_type": "code",
      "source": [
        "len(big_box)"
      ],
      "metadata": {
        "id": "iJtadu6Mohdl"
      },
      "execution_count": null,
      "outputs": []
    },
    {
      "cell_type": "code",
      "source": [
        "del big_box[0:4]"
      ],
      "metadata": {
        "id": "o4sgMoAKokPP"
      },
      "execution_count": null,
      "outputs": []
    },
    {
      "cell_type": "code",
      "source": [
        "productlink=\"https://www.amazon.in\"+big_box[5].div.div.div.a['href']"
      ],
      "metadata": {
        "id": "Z0DotAOVomhw"
      },
      "execution_count": null,
      "outputs": []
    },
    {
      "cell_type": "code",
      "source": [
        "productlink"
      ],
      "metadata": {
        "id": "6ARQdt1qoo7m"
      },
      "execution_count": null,
      "outputs": []
    },
    {
      "cell_type": "markdown",
      "source": [
        "<h1>Getting all urls</h1>"
      ],
      "metadata": {
        "id": "_YVX7bkdp6IR"
      }
    },
    {
      "cell_type": "code",
      "source": [
        "for i in big_box:\n",
        "  print(\"https://www.amazon.in\"+i.div.div.a['href'])\n"
      ],
      "metadata": {
        "id": "-c1fBXDlorYz"
      },
      "execution_count": null,
      "outputs": []
    }
  ]
}